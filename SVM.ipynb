{
 "cells": [
  {
   "cell_type": "code",
   "execution_count": 1,
   "metadata": {},
   "outputs": [
    {
     "name": "stderr",
     "output_type": "stream",
     "text": [
      "/home/ask149/Env/gsc3/lib/python3.6/site-packages/sklearn/svm/base.py:196: FutureWarning: The default value of gamma will change from 'auto' to 'scale' in version 0.22 to account better for unscaled features. Set gamma explicitly to 'auto' or 'scale' to avoid this warning.\n",
      "  \"avoid this warning.\", FutureWarning)\n"
     ]
    },
    {
     "data": {
      "text/plain": [
       "0.9951519671825471"
      ]
     },
     "execution_count": 1,
     "metadata": {},
     "output_type": "execute_result"
    }
   ],
   "source": [
    "import numpy as np\n",
    "import pandas as pd\n",
    "import matplotlib.pyplot as plt\n",
    "from sklearn.model_selection import train_test_split\n",
    "from sklearn.preprocessing import LabelEncoder\n",
    "from sklearn.preprocessing import Imputer\n",
    "from sklearn import preprocessing\n",
    "from sklearn.svm import SVC\n",
    "from sklearn.metrics import accuracy_score\n"
   ]
  },
  {
   "cell_type": "code",
   "execution_count": 2,
   "metadata": {},
   "outputs": [],
   "source": [
    "SEED = 8888\n",
    "np.random.seed(SEED)\n",
    "columns = [\"edible\", \"cap-shape\", \"cap-surface\", \"cap-color\", \"bruises?\",\n",
    "            \"odor\", \"gill-attachment\", \"gill-spacing\", \"gill-size\", \"gill-color\",\n",
    "            \"stalk-shape\", \"stalk-root\", \"stalk-surface-above-ring\",\n",
    "            \"stalk-surface-below-ring\", \"stalk-color-above-ring\",\n",
    "            \"stalk-color-below-ring\", \"veil-type\", \"veil-color\", \"ring-number\",\n",
    "            \"ring-type\", \"spore-print-color\", \"population\", \"habitat\"\n",
    "            ]\n",
    "dataset = pd.read_csv('mycsv.csv',names=columns)"
   ]
  },
  {
   "cell_type": "code",
   "execution_count": 3,
   "metadata": {},
   "outputs": [],
   "source": [
    "#for value in columns:\n",
    "#    print (value,\":\", sum(dataset[value] == '?'))\n",
    "df_rev = dataset\n",
    "for value in columns:\n",
    "    df_rev[value].replace(['?'], [df_rev.describe(include='all')[value][2]],inplace=True)"
   ]
  },
  {
   "cell_type": "code",
   "execution_count": 4,
   "metadata": {},
   "outputs": [],
   "source": [
    "df_rev = df_rev.apply(LabelEncoder().fit_transform)"
   ]
  },
  {
   "cell_type": "code",
   "execution_count": 5,
   "metadata": {},
   "outputs": [],
   "source": [
    "features = df_rev.values[:,1:]\n",
    "target = df_rev.values[:,0]\n",
    "#print(features)\n",
    "#print(target)"
   ]
  },
  {
   "cell_type": "code",
   "execution_count": 6,
   "metadata": {},
   "outputs": [],
   "source": [
    "columns1 = [\"cap-shape\", \"cap-surface\", \"cap-color\", \"bruises?\",\n",
    "            \"odor\", \"gill-attachment\", \"gill-spacing\", \"gill-size\", \"gill-color\",\n",
    "            \"stalk-shape\", \"stalk-root\", \"stalk-surface-above-ring\",\n",
    "            \"stalk-surface-below-ring\", \"stalk-color-above-ring\",\n",
    "            \"stalk-color-below-ring\", \"veil-type\", \"veil-color\", \"ring-number\",\n",
    "            \"ring-type\", \"spore-print-color\", \"population\", \"habitat\"\n",
    "            ]\n",
    "scaled_features = {}\n",
    "for each in columns1:\n",
    "    mean , std = df_rev[each].mean(), df_rev[each].std()\n",
    "    scaled_features[each] = [mean,std]\n",
    "    df_rev.loc[:, each] = (df_rev[each]-mean)/std"
   ]
  },
  {
   "cell_type": "code",
   "execution_count": 7,
   "metadata": {},
   "outputs": [],
   "source": [
    "features_train, features_test, target_train, target_test = train_test_split(features,target, test_size = 0.66,random_state = 10)"
   ]
  },
  {
   "cell_type": "code",
   "execution_count": 8,
   "metadata": {},
   "outputs": [
    {
     "name": "stderr",
     "output_type": "stream",
     "text": [
      "/home/ask149/Env/gsc3/lib/python3.6/site-packages/sklearn/svm/base.py:196: FutureWarning: The default value of gamma will change from 'auto' to 'scale' in version 0.22 to account better for unscaled features. Set gamma explicitly to 'auto' or 'scale' to avoid this warning.\n",
      "  \"avoid this warning.\", FutureWarning)\n"
     ]
    }
   ],
   "source": [
    "clf = SVC()\n",
    "clf.fit(features_train,target_train)\n",
    "target_pred = clf.predict(features_test)\n"
   ]
  },
  {
   "cell_type": "code",
   "execution_count": 9,
   "metadata": {},
   "outputs": [
    {
     "data": {
      "text/plain": [
       "0.9951519671825471"
      ]
     },
     "execution_count": 9,
     "metadata": {},
     "output_type": "execute_result"
    }
   ],
   "source": [
    "accuracy_score(target_test, target_pred, normalize = True)"
   ]
  },
  {
   "cell_type": "code",
   "execution_count": null,
   "metadata": {},
   "outputs": [],
   "source": []
  }
 ],
 "metadata": {
  "kernelspec": {
   "display_name": "Python 3",
   "language": "python",
   "name": "python3"
  },
  "language_info": {
   "codemirror_mode": {
    "name": "ipython",
    "version": 3
   },
   "file_extension": ".py",
   "mimetype": "text/x-python",
   "name": "python",
   "nbconvert_exporter": "python",
   "pygments_lexer": "ipython3",
   "version": "3.6.7"
  }
 },
 "nbformat": 4,
 "nbformat_minor": 2
}
